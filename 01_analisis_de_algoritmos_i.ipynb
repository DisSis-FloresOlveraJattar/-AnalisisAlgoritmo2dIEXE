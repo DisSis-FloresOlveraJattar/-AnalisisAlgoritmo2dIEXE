{
  "nbformat": 4,
  "nbformat_minor": 0,
  "metadata": {
    "colab": {
      "name": "01_analisis_de_algoritmos_i.ipynb",
      "provenance": [],
      "collapsed_sections": [],
      "authorship_tag": "ABX9TyMDuHiPBn6Ct/BCaKkYCYuL",
      "include_colab_link": true
    },
    "kernelspec": {
      "name": "python3",
      "display_name": "Python 3"
    },
    "language_info": {
      "name": "python"
    }
  },
  "cells": [
    {
      "cell_type": "markdown",
      "metadata": {
        "id": "view-in-github",
        "colab_type": "text"
      },
      "source": [
        "<a href=\"https://colab.research.google.com/github/IEXE-Tec/analisis_de_algoritmos/blob/main/01_analisis_de_algoritmos_i.ipynb\" target=\"_parent\"><img src=\"https://colab.research.google.com/assets/colab-badge.svg\" alt=\"Open In Colab\"/></a>"
      ]
    },
    {
      "cell_type": "markdown",
      "metadata": {
        "id": "iA0oQrpmK_-0"
      },
      "source": [
        "# Analisis de Algoritmos I"
      ]
    },
    {
      "cell_type": "markdown",
      "metadata": {
        "id": "gmUUCdu7LG9x"
      },
      "source": [
        "# Complejidad"
      ]
    },
    {
      "cell_type": "markdown",
      "metadata": {
        "id": "GNILOS3HLJje"
      },
      "source": [
        "## Ejercicio Perimetro Cuadrado"
      ]
    },
    {
      "cell_type": "code",
      "metadata": {
        "id": "qg9wNU6qmk91"
      },
      "source": [
        "import timeit\n",
        "import time\n",
        "import pandas as pd\n",
        "import matplotlib as mpl\n",
        "import matplotlib.pyplot as plt\n",
        "import seaborn as sns\n",
        "\n",
        "%matplotlib inline\n",
        "sns.set_style('darkgrid')\n",
        "sns.set(rc={'figure.figsize':(16,6)})"
      ],
      "execution_count": 1,
      "outputs": []
    },
    {
      "cell_type": "markdown",
      "metadata": {
        "id": "a6Bt4d5xLK-6"
      },
      "source": [
        "Alumno I"
      ]
    },
    {
      "cell_type": "code",
      "metadata": {
        "id": "pXw3PrXFLMuH"
      },
      "source": [
        "def per_cuadrado_i(lado=0):\n",
        "  perimetro = 0\n",
        "  for l in range(0,4):\n",
        "    perimetro += lado\n",
        "\n",
        "  return perimetro"
      ],
      "execution_count": 2,
      "outputs": []
    },
    {
      "cell_type": "markdown",
      "metadata": {
        "id": "Ee_Gi3NhLnjK"
      },
      "source": [
        "Alumno II"
      ]
    },
    {
      "cell_type": "code",
      "metadata": {
        "id": "eJpwCa8GLpDy"
      },
      "source": [
        "def per_cuadrado_ii(lado=0):\n",
        "  return lado*4"
      ],
      "execution_count": 3,
      "outputs": []
    },
    {
      "cell_type": "code",
      "metadata": {
        "colab": {
          "base_uri": "https://localhost:8080/"
        },
        "id": "7qymuvwVLx0Q",
        "outputId": "aa277fb1-9af3-43a1-9964-13efeeaab18e"
      },
      "source": [
        "%time per_cuadrado_i(1)"
      ],
      "execution_count": 4,
      "outputs": [
        {
          "output_type": "stream",
          "text": [
            "CPU times: user 6 µs, sys: 2 µs, total: 8 µs\n",
            "Wall time: 11.2 µs\n"
          ],
          "name": "stdout"
        },
        {
          "output_type": "execute_result",
          "data": {
            "text/plain": [
              "4"
            ]
          },
          "metadata": {
            "tags": []
          },
          "execution_count": 4
        }
      ]
    },
    {
      "cell_type": "code",
      "metadata": {
        "colab": {
          "base_uri": "https://localhost:8080/"
        },
        "id": "bt5ViCDRLfLm",
        "outputId": "7d61f1fe-c442-4895-e154-a5dfeb0a12b1"
      },
      "source": [
        "%time per_cuadrado_ii(1)"
      ],
      "execution_count": 5,
      "outputs": [
        {
          "output_type": "stream",
          "text": [
            "CPU times: user 4 µs, sys: 1 µs, total: 5 µs\n",
            "Wall time: 8.58 µs\n"
          ],
          "name": "stdout"
        },
        {
          "output_type": "execute_result",
          "data": {
            "text/plain": [
              "4"
            ]
          },
          "metadata": {
            "tags": []
          },
          "execution_count": 5
        }
      ]
    },
    {
      "cell_type": "markdown",
      "metadata": {
        "id": "e6-aF3UGg_yV"
      },
      "source": [
        "## Ejercicio 2\n",
        "Perimetro "
      ]
    },
    {
      "cell_type": "code",
      "metadata": {
        "id": "8GHxKzQXhDhb"
      },
      "source": [
        "def perimetro_i(l=0, n=0):\n",
        "  per = 0\n",
        "  for i in range(0,n):\n",
        "    per += l\n",
        "\n",
        "  return per"
      ],
      "execution_count": 6,
      "outputs": []
    },
    {
      "cell_type": "code",
      "metadata": {
        "id": "QUe9j47ChOfK"
      },
      "source": [
        "def perimetro_ii(l=0, n=0):\n",
        "  return l*n"
      ],
      "execution_count": 7,
      "outputs": []
    },
    {
      "cell_type": "code",
      "metadata": {
        "colab": {
          "base_uri": "https://localhost:8080/"
        },
        "id": "AgG8_ZUQhdJj",
        "outputId": "c806b98f-62df-4b41-b515-f770e5509253"
      },
      "source": [
        "%time perimetro_i(l=1, n=1000000)"
      ],
      "execution_count": 8,
      "outputs": [
        {
          "output_type": "stream",
          "text": [
            "CPU times: user 103 ms, sys: 636 µs, total: 104 ms\n",
            "Wall time: 157 ms\n"
          ],
          "name": "stdout"
        },
        {
          "output_type": "execute_result",
          "data": {
            "text/plain": [
              "1000000"
            ]
          },
          "metadata": {
            "tags": []
          },
          "execution_count": 8
        }
      ]
    },
    {
      "cell_type": "code",
      "metadata": {
        "colab": {
          "base_uri": "https://localhost:8080/"
        },
        "id": "X7ABb0sYhhfL",
        "outputId": "178ee77d-4aea-4258-da95-a0d85f2754af"
      },
      "source": [
        "%time perimetro_ii(l=1, n=1000000)"
      ],
      "execution_count": 9,
      "outputs": [
        {
          "output_type": "stream",
          "text": [
            "CPU times: user 6 µs, sys: 0 ns, total: 6 µs\n",
            "Wall time: 10.3 µs\n"
          ],
          "name": "stdout"
        },
        {
          "output_type": "execute_result",
          "data": {
            "text/plain": [
              "1000000"
            ]
          },
          "metadata": {
            "tags": []
          },
          "execution_count": 9
        }
      ]
    },
    {
      "cell_type": "markdown",
      "metadata": {
        "id": "7gnAaelnmgXh"
      },
      "source": [
        "### Tiempo en funcion de n"
      ]
    },
    {
      "cell_type": "markdown",
      "metadata": {
        "id": "BAnk0d-2myrl"
      },
      "source": [
        "Ahora grafiquemos el tiempo de ejecucion dependiendo del parametro n."
      ]
    },
    {
      "cell_type": "code",
      "metadata": {
        "id": "Bk-4FT5hmh6L"
      },
      "source": [
        "def tiempo_exc(foo, n=0,l=0):\n",
        "  '''\n",
        "  foo: funcion a evaluar (perimetro_ii o  i\n",
        "  n: numero de lados\n",
        "  l: tamaño del lado\n",
        "\n",
        "  return: wall time \n",
        "  '''\n",
        "  start_time = time.time()\n",
        "  foo(n,l)\n",
        "  end_time = time.time()\n",
        "  return end_time - start_time"
      ],
      "execution_count": 10,
      "outputs": []
    },
    {
      "cell_type": "code",
      "metadata": {
        "colab": {
          "base_uri": "https://localhost:8080/",
          "height": 424
        },
        "id": "nyzh8e34ojQ_",
        "outputId": "d7436a9e-b53a-403d-8fed-d0f01a3722e4"
      },
      "source": [
        "tiempo_i = []\n",
        "tiempo_ii = []\n",
        "lista_n = list(range(1, 1000001, 10000))\n",
        "\n",
        "# Medir tiempos de ejecucion\n",
        "for nn in lista_n:\n",
        "  tiempo_i.append(tiempo_exc(perimetro_i, n=nn, l=1))\n",
        "  tiempo_ii.append(tiempo_exc(perimetro_ii, n=nn, l=1))\n",
        "\n",
        "# Crear dataframe\n",
        "df_i = pd.DataFrame({'n':lista_n, 'tiempo':tiempo_i})\n",
        "df_i['alg'] = 'i'\n",
        "df_ii = pd.DataFrame({'n':lista_n, 'tiempo':tiempo_ii})\n",
        "df_ii['alg'] = 'ii'\n",
        "df = pd.concat([df_i, df_ii], ignore_index=True)\n",
        "df"
      ],
      "execution_count": 11,
      "outputs": [
        {
          "output_type": "execute_result",
          "data": {
            "text/html": [
              "<div>\n",
              "<style scoped>\n",
              "    .dataframe tbody tr th:only-of-type {\n",
              "        vertical-align: middle;\n",
              "    }\n",
              "\n",
              "    .dataframe tbody tr th {\n",
              "        vertical-align: top;\n",
              "    }\n",
              "\n",
              "    .dataframe thead th {\n",
              "        text-align: right;\n",
              "    }\n",
              "</style>\n",
              "<table border=\"1\" class=\"dataframe\">\n",
              "  <thead>\n",
              "    <tr style=\"text-align: right;\">\n",
              "      <th></th>\n",
              "      <th>n</th>\n",
              "      <th>tiempo</th>\n",
              "      <th>alg</th>\n",
              "    </tr>\n",
              "  </thead>\n",
              "  <tbody>\n",
              "    <tr>\n",
              "      <th>0</th>\n",
              "      <td>1</td>\n",
              "      <td>3.337860e-06</td>\n",
              "      <td>i</td>\n",
              "    </tr>\n",
              "    <tr>\n",
              "      <th>1</th>\n",
              "      <td>10001</td>\n",
              "      <td>1.192093e-06</td>\n",
              "      <td>i</td>\n",
              "    </tr>\n",
              "    <tr>\n",
              "      <th>2</th>\n",
              "      <td>20001</td>\n",
              "      <td>9.536743e-07</td>\n",
              "      <td>i</td>\n",
              "    </tr>\n",
              "    <tr>\n",
              "      <th>3</th>\n",
              "      <td>30001</td>\n",
              "      <td>7.152557e-07</td>\n",
              "      <td>i</td>\n",
              "    </tr>\n",
              "    <tr>\n",
              "      <th>4</th>\n",
              "      <td>40001</td>\n",
              "      <td>9.536743e-07</td>\n",
              "      <td>i</td>\n",
              "    </tr>\n",
              "    <tr>\n",
              "      <th>...</th>\n",
              "      <td>...</td>\n",
              "      <td>...</td>\n",
              "      <td>...</td>\n",
              "    </tr>\n",
              "    <tr>\n",
              "      <th>195</th>\n",
              "      <td>950001</td>\n",
              "      <td>4.768372e-07</td>\n",
              "      <td>ii</td>\n",
              "    </tr>\n",
              "    <tr>\n",
              "      <th>196</th>\n",
              "      <td>960001</td>\n",
              "      <td>4.768372e-07</td>\n",
              "      <td>ii</td>\n",
              "    </tr>\n",
              "    <tr>\n",
              "      <th>197</th>\n",
              "      <td>970001</td>\n",
              "      <td>2.384186e-07</td>\n",
              "      <td>ii</td>\n",
              "    </tr>\n",
              "    <tr>\n",
              "      <th>198</th>\n",
              "      <td>980001</td>\n",
              "      <td>4.768372e-07</td>\n",
              "      <td>ii</td>\n",
              "    </tr>\n",
              "    <tr>\n",
              "      <th>199</th>\n",
              "      <td>990001</td>\n",
              "      <td>4.768372e-07</td>\n",
              "      <td>ii</td>\n",
              "    </tr>\n",
              "  </tbody>\n",
              "</table>\n",
              "<p>200 rows × 3 columns</p>\n",
              "</div>"
            ],
            "text/plain": [
              "          n        tiempo alg\n",
              "0         1  3.337860e-06   i\n",
              "1     10001  1.192093e-06   i\n",
              "2     20001  9.536743e-07   i\n",
              "3     30001  7.152557e-07   i\n",
              "4     40001  9.536743e-07   i\n",
              "..      ...           ...  ..\n",
              "195  950001  4.768372e-07  ii\n",
              "196  960001  4.768372e-07  ii\n",
              "197  970001  2.384186e-07  ii\n",
              "198  980001  4.768372e-07  ii\n",
              "199  990001  4.768372e-07  ii\n",
              "\n",
              "[200 rows x 3 columns]"
            ]
          },
          "metadata": {
            "tags": []
          },
          "execution_count": 11
        }
      ]
    },
    {
      "cell_type": "code",
      "metadata": {
        "colab": {
          "base_uri": "https://localhost:8080/",
          "height": 313
        },
        "id": "u0kGFOdEqbem",
        "outputId": "6192177e-5689-4f18-d352-555aecca073c"
      },
      "source": [
        "sns.lineplot(data=df, x='n', y='tiempo', hue='alg')"
      ],
      "execution_count": 12,
      "outputs": [
        {
          "output_type": "execute_result",
          "data": {
            "text/plain": [
              "<matplotlib.axes._subplots.AxesSubplot at 0x7f9eac7ff610>"
            ]
          },
          "metadata": {
            "tags": []
          },
          "execution_count": 12
        },
        {
          "output_type": "display_data",
          "data": {
            "image/png": "[encoded data removed]",
            "text/plain": [
              "<Figure size 432x288 with 1 Axes>"
            ]
          },
          "metadata": {
            "tags": [],
            "needs_background": "light"
          }
        }
      ]
    },
    {
      "cell_type": "code",
      "metadata": {
        "colab": {
          "base_uri": "https://localhost:8080/",
          "height": 206
        },
        "id": "icJqUjTSsXf8",
        "outputId": "9a7f233f-9972-46b0-a7fd-860f299d5031"
      },
      "source": [
        "# Varias ejecuciones para los mismos valores de n\n",
        "\n",
        "\n",
        "for h in range(10000):\n",
        "  tiempo_i = []\n",
        "  tiempo_ii = []\n",
        "  lista_n = list(range(1, 1000000, 1000))\n",
        "  lista_df = []\n",
        "  for nn in lista_n:\n",
        "    tiempo_i.append(tiempo_exc(perimetro_i, n=nn, l=1))\n",
        "    tiempo_ii.append(tiempo_exc(perimetro_ii, n=nn, l=1))\n",
        "\n",
        "  # Crear dataframe\n",
        "  df_i = pd.DataFrame({'n':lista_n, 'tiempo':tiempo_i})\n",
        "  df_i['alg'] = 'i'\n",
        "  df_ii = pd.DataFrame({'n':lista_n, 'tiempo':tiempo_ii})\n",
        "  df_ii['alg'] = 'ii'\n",
        "  df = pd.concat([df_i, df_ii], ignore_index=True)\n",
        "  lista_df.append(df)\n",
        "\n",
        "df = pd.concat(lista_df, ignore_index=True)\n",
        "df = df.groupby(['n', 'alg'], as_index=False).mean()\n",
        "df.head()"
      ],
      "execution_count": 13,
      "outputs": [
        {
          "output_type": "execute_result",
          "data": {
            "text/html": [
              "<div>\n",
              "<style scoped>\n",
              "    .dataframe tbody tr th:only-of-type {\n",
              "        vertical-align: middle;\n",
              "    }\n",
              "\n",
              "    .dataframe tbody tr th {\n",
              "        vertical-align: top;\n",
              "    }\n",
              "\n",
              "    .dataframe thead th {\n",
              "        text-align: right;\n",
              "    }\n",
              "</style>\n",
              "<table border=\"1\" class=\"dataframe\">\n",
              "  <thead>\n",
              "    <tr style=\"text-align: right;\">\n",
              "      <th></th>\n",
              "      <th>n</th>\n",
              "      <th>alg</th>\n",
              "      <th>tiempo</th>\n",
              "    </tr>\n",
              "  </thead>\n",
              "  <tbody>\n",
              "    <tr>\n",
              "      <th>0</th>\n",
              "      <td>1</td>\n",
              "      <td>i</td>\n",
              "      <td>3.576279e-06</td>\n",
              "    </tr>\n",
              "    <tr>\n",
              "      <th>1</th>\n",
              "      <td>1</td>\n",
              "      <td>ii</td>\n",
              "      <td>1.192093e-06</td>\n",
              "    </tr>\n",
              "    <tr>\n",
              "      <th>2</th>\n",
              "      <td>1001</td>\n",
              "      <td>i</td>\n",
              "      <td>1.668930e-06</td>\n",
              "    </tr>\n",
              "    <tr>\n",
              "      <th>3</th>\n",
              "      <td>1001</td>\n",
              "      <td>ii</td>\n",
              "      <td>7.152557e-07</td>\n",
              "    </tr>\n",
              "    <tr>\n",
              "      <th>4</th>\n",
              "      <td>2001</td>\n",
              "      <td>i</td>\n",
              "      <td>1.430511e-06</td>\n",
              "    </tr>\n",
              "  </tbody>\n",
              "</table>\n",
              "</div>"
            ],
            "text/plain": [
              "      n alg        tiempo\n",
              "0     1   i  3.576279e-06\n",
              "1     1  ii  1.192093e-06\n",
              "2  1001   i  1.668930e-06\n",
              "3  1001  ii  7.152557e-07\n",
              "4  2001   i  1.430511e-06"
            ]
          },
          "metadata": {
            "tags": []
          },
          "execution_count": 13
        }
      ]
    },
    {
      "cell_type": "code",
      "metadata": {
        "colab": {
          "base_uri": "https://localhost:8080/",
          "height": 313
        },
        "id": "PGQOO4zMtDo0",
        "outputId": "16529633-e77a-46fd-89ac-671e29ac8de6"
      },
      "source": [
        "sns.lineplot(data=df, x='n', y='tiempo', hue='alg')"
      ],
      "execution_count": 14,
      "outputs": [
        {
          "output_type": "execute_result",
          "data": {
            "text/plain": [
              "<matplotlib.axes._subplots.AxesSubplot at 0x7f9eabc8fe10>"
            ]
          },
          "metadata": {
            "tags": []
          },
          "execution_count": 14
        },
        {
          "output_type": "display_data",
          "data": {
            "image/png": "[encoded data removed]",
            "text/plain": [
              "<Figure size 432x288 with 1 Axes>"
            ]
          },
          "metadata": {
            "tags": [],
            "needs_background": "light"
          }
        }
      ]
    },
    {
      "cell_type": "markdown",
      "metadata": {
        "id": "CrCpXQChLuTk"
      },
      "source": [
        "# Notacion Big-O"
      ]
    },
    {
      "cell_type": "markdown",
      "metadata": {
        "id": "fmw4HgzlMC0-"
      },
      "source": [
        "Veamos algunos ejemplo de la complejidad de algunas funciones aplicada a la lista con valores 1 a n:   \n",
        " \n",
        "```datos=list(range(1, n+1)) ```"
      ]
    },
    {
      "cell_type": "code",
      "metadata": {
        "id": "i7Bo8-a4LwKi"
      },
      "source": [
        "def foo_datos(n=10):\n",
        "  return list(range(1, n+1))"
      ],
      "execution_count": 15,
      "outputs": []
    },
    {
      "cell_type": "code",
      "metadata": {
        "colab": {
          "base_uri": "https://localhost:8080/"
        },
        "id": "MNSORrgrMjLM",
        "outputId": "bdc74e4a-eac9-43cc-e572-5acfaf8e251b"
      },
      "source": [
        "datos = foo_datos(n=10)\n",
        "datos"
      ],
      "execution_count": 16,
      "outputs": [
        {
          "output_type": "execute_result",
          "data": {
            "text/plain": [
              "[1, 2, 3, 4, 5, 6, 7, 8, 9, 10]"
            ]
          },
          "metadata": {
            "tags": []
          },
          "execution_count": 16
        }
      ]
    },
    {
      "cell_type": "markdown",
      "metadata": {
        "id": "Q-ZVYZMZL-VS"
      },
      "source": [
        "## Funcion Constante  \n",
        "$\\mathcal{O}(1)$, pues sin importar el tamaño de la lista de valores, el codigo es ejecutado en 1 un paso."
      ]
    },
    {
      "cell_type": "code",
      "metadata": {
        "id": "e83yzBsXMnh7"
      },
      "source": [
        "def o_constante(datos):\n",
        "  print(datos)"
      ],
      "execution_count": 17,
      "outputs": []
    },
    {
      "cell_type": "code",
      "metadata": {
        "colab": {
          "base_uri": "https://localhost:8080/"
        },
        "id": "YuGbhFMTMtPP",
        "outputId": "9b2bdbfb-35eb-4838-9b90-28f2bd0ad0ee"
      },
      "source": [
        "o_constante(datos)"
      ],
      "execution_count": 18,
      "outputs": [
        {
          "output_type": "stream",
          "text": [
            "[1, 2, 3, 4, 5, 6, 7, 8, 9, 10]\n"
          ],
          "name": "stdout"
        }
      ]
    },
    {
      "cell_type": "markdown",
      "metadata": {
        "id": "nrMSIXY0MvNF"
      },
      "source": [
        "## Funcion lineal\n",
        "$\\mathcal{O}(n)$"
      ]
    },
    {
      "cell_type": "markdown",
      "metadata": {
        "id": "QCtAjdtTNrTl"
      },
      "source": [
        "En el siguiente bloque el tiempo es lineal en $n$ pues se ejecuta una operacion de suma en cada iteracion del for-loop `for s in datos`."
      ]
    },
    {
      "cell_type": "code",
      "metadata": {
        "id": "m1Rf7jCqNc4V"
      },
      "source": [
        "def o_lineal_suma(datos):\n",
        "  suma = 0\n",
        "  for s in datos:\n",
        "    suma += s\n",
        "\n",
        "  return suma"
      ],
      "execution_count": 19,
      "outputs": []
    },
    {
      "cell_type": "code",
      "metadata": {
        "colab": {
          "base_uri": "https://localhost:8080/"
        },
        "id": "sRE_o8x7NoFo",
        "outputId": "81c9bd0e-7b3c-4f2c-e225-b9aae3f067ed"
      },
      "source": [
        "o_lineal_suma(datos)"
      ],
      "execution_count": 20,
      "outputs": [
        {
          "output_type": "execute_result",
          "data": {
            "text/plain": [
              "55"
            ]
          },
          "metadata": {
            "tags": []
          },
          "execution_count": 20
        }
      ]
    },
    {
      "cell_type": "markdown",
      "metadata": {
        "id": "0qLkngXqOGH1"
      },
      "source": [
        "Lo mismo pasa en el siguiente bloque. Cada operacion de print o imprimir es ejecutada $n$ veces por eso la complejidad $\\mathcal{O}(n)$."
      ]
    },
    {
      "cell_type": "code",
      "metadata": {
        "id": "72eCUw2SN9x6"
      },
      "source": [
        "def o_lineal_print(datos):\n",
        "  for s in datos:\n",
        "    print(s)"
      ],
      "execution_count": 21,
      "outputs": []
    },
    {
      "cell_type": "code",
      "metadata": {
        "colab": {
          "base_uri": "https://localhost:8080/"
        },
        "id": "u88nO3IsODXe",
        "outputId": "02720933-25c5-40c1-bc1b-0f91cef1a14c"
      },
      "source": [
        "o_lineal_print(datos)"
      ],
      "execution_count": 22,
      "outputs": [
        {
          "output_type": "stream",
          "text": [
            "1\n",
            "2\n",
            "3\n",
            "4\n",
            "5\n",
            "6\n",
            "7\n",
            "8\n",
            "9\n",
            "10\n"
          ],
          "name": "stdout"
        }
      ]
    },
    {
      "cell_type": "markdown",
      "metadata": {
        "id": "BCkAnHFKOPq6"
      },
      "source": [
        "## Polinomial de grado 2"
      ]
    },
    {
      "cell_type": "markdown",
      "metadata": {
        "id": "l90l7Yb8ObQe"
      },
      "source": [
        "$\\mathcal{O}(n^2)$"
      ]
    },
    {
      "cell_type": "markdown",
      "metadata": {
        "id": "TJ0WnGadOd42"
      },
      "source": [
        "En el siguiente ejemplo la complejidad es polinomial de grado dos, o cuadrada. Pues a cada uno de los $n$ elementos de la lista de le multiplica con cada uno de los $n$ elementos de la misma lista. \n",
        "Se crea la variable `acc` en un primer paso. Esto se hace en $\\mathcal{O}(1)$.   \n",
        "\n",
        "Podemos observar que el primer for `for s in datos` itera sobre cada uno de los `n` valores guardatos en `datos`.  \n",
        "A su vez, tiene otro for anidado `for ss in datos` que itera sobre la misma lista de $n$ objetos.  \n",
        " En cada una de estas operaciones se realiza una suma y una multiplicacion `acc += s*ss`.\n",
        "\n",
        "Esto nos da $2n^2$ operaciones en los loops de la funcion, lo que significa que tiene una complejidad de $ \\mathcal{O}(n^2) $."
      ]
    },
    {
      "cell_type": "code",
      "metadata": {
        "id": "y2j4eMZnO4w7"
      },
      "source": [
        "def o_cuadratica_mult(datos):\n",
        "  acc = 0\n",
        "  for s in datos:\n",
        "    for ss in datos:\n",
        "      acc += s*ss\n",
        "  return acc"
      ],
      "execution_count": 23,
      "outputs": []
    },
    {
      "cell_type": "code",
      "metadata": {
        "colab": {
          "base_uri": "https://localhost:8080/"
        },
        "id": "tBGvSByJPQ8G",
        "outputId": "7becd8a3-b078-497e-9926-477d1f27a724"
      },
      "source": [
        "o_cuadratica_mult(datos)"
      ],
      "execution_count": 24,
      "outputs": [
        {
          "output_type": "execute_result",
          "data": {
            "text/plain": [
              "3025"
            ]
          },
          "metadata": {
            "tags": []
          },
          "execution_count": 24
        }
      ]
    },
    {
      "cell_type": "markdown",
      "metadata": {
        "id": "m1tPc-ViS5eE"
      },
      "source": [
        "## Tarea"
      ]
    },
    {
      "cell_type": "markdown",
      "metadata": {
        "id": "7YM2E8OsT3-S"
      },
      "source": [
        "Encuntra al complejidad asitotica de las siguientes funciones"
      ]
    },
    {
      "cell_type": "code",
      "metadata": {
        "id": "O-rWcDNcUDKo"
      },
      "source": [
        "def o_tarea_1(datos):\n",
        "  for s in datos:\n",
        "    print(s)\n",
        "    pass "
      ],
      "execution_count": 25,
      "outputs": []
    },
    {
      "cell_type": "code",
      "metadata": {
        "colab": {
          "base_uri": "https://localhost:8080/"
        },
        "id": "cmfEz7qsUNr5",
        "outputId": "76ed92b9-0ee2-43aa-82ab-d3abea039318"
      },
      "source": [
        "o_tarea_1(datos)"
      ],
      "execution_count": 26,
      "outputs": [
        {
          "output_type": "stream",
          "text": [
            "1\n",
            "2\n",
            "3\n",
            "4\n",
            "5\n",
            "6\n",
            "7\n",
            "8\n",
            "9\n",
            "10\n"
          ],
          "name": "stdout"
        }
      ]
    },
    {
      "cell_type": "code",
      "metadata": {
        "id": "C0MjogAiUQ6o"
      },
      "source": [
        "def o_tarea_2(datos):\n",
        "  for s in datos:\n",
        "    pass "
      ],
      "execution_count": 27,
      "outputs": []
    },
    {
      "cell_type": "code",
      "metadata": {
        "id": "n_FdZgnlUWx0"
      },
      "source": [
        "o_tarea_2(datos)"
      ],
      "execution_count": 28,
      "outputs": []
    },
    {
      "cell_type": "code",
      "metadata": {
        "id": "nnPLrl1yT87v"
      },
      "source": [
        "def o_tarea_3(datos):\n",
        "  return 0"
      ],
      "execution_count": 29,
      "outputs": []
    },
    {
      "cell_type": "code",
      "metadata": {
        "colab": {
          "base_uri": "https://localhost:8080/"
        },
        "id": "caMzGqqkUZoz",
        "outputId": "d3a8478e-148f-4119-c9e2-73dd5dc9607a"
      },
      "source": [
        "o_tarea_3(datos)"
      ],
      "execution_count": 30,
      "outputs": [
        {
          "output_type": "execute_result",
          "data": {
            "text/plain": [
              "0"
            ]
          },
          "metadata": {
            "tags": []
          },
          "execution_count": 30
        }
      ]
    },
    {
      "cell_type": "code",
      "metadata": {
        "id": "RpRpKW76Ue7v"
      },
      "source": [
        "def o_tarea_4(datos):\n",
        "  acc = 0\n",
        "  for s in datos:\n",
        "    for ss in datos:\n",
        "      for sss in datos:\n",
        "        acc = acc*sss\n",
        "        acc -= sss\n",
        "        acc += sss\n",
        "  return acc"
      ],
      "execution_count": 31,
      "outputs": []
    },
    {
      "cell_type": "code",
      "metadata": {
        "colab": {
          "base_uri": "https://localhost:8080/"
        },
        "id": "lJUOCOo0U6yn",
        "outputId": "fed772d2-6926-4f2d-fa20-9a8a2253f725"
      },
      "source": [
        "o_tarea_4(datos)"
      ],
      "execution_count": 32,
      "outputs": [
        {
          "output_type": "execute_result",
          "data": {
            "text/plain": [
              "0"
            ]
          },
          "metadata": {
            "tags": []
          },
          "execution_count": 32
        }
      ]
    },
    {
      "cell_type": "code",
      "metadata": {
        "id": "RUPvMvbMVJmT"
      },
      "source": [
        "def o_tarea_5(datos):\n",
        "  acc = 0\n",
        "  for s in datos:\n",
        "    for ss in range(1,5):\n",
        "      acc += s*ss\n",
        "  return acc"
      ],
      "execution_count": 33,
      "outputs": []
    },
    {
      "cell_type": "code",
      "metadata": {
        "colab": {
          "base_uri": "https://localhost:8080/"
        },
        "id": "UPGFrKMZVV4R",
        "outputId": "732c6e71-9709-468b-d58e-44399508a91a"
      },
      "source": [
        "o_tarea_5(datos)"
      ],
      "execution_count": 34,
      "outputs": [
        {
          "output_type": "execute_result",
          "data": {
            "text/plain": [
              "550"
            ]
          },
          "metadata": {
            "tags": []
          },
          "execution_count": 34
        }
      ]
    },
    {
      "cell_type": "markdown",
      "metadata": {
        "id": "DK-w7lI3mawQ"
      },
      "source": [
        "# Estructuras de Datos basicas en python"
      ]
    },
    {
      "cell_type": "markdown",
      "metadata": {
        "id": "LwAstabvsFXm"
      },
      "source": [
        "En esta[wiki de python](https://wiki.python.org/moin/TimeComplexity) encontraras las tablas con la complejidad de diversas operaciones de python en notacion Big-O. Es un recurso invaluable para hacer tu codigo mas eficiente."
      ]
    },
    {
      "cell_type": "markdown",
      "metadata": {
        "id": "I-FhJC_Zmc-8"
      },
      "source": [
        "\n",
        "## Listas"
      ]
    },
    {
      "cell_type": "code",
      "metadata": {
        "id": "ZEb4vsSLmd-C"
      },
      "source": [
        "# Creacion de Listas\n",
        "lista = []\n",
        "lista = list()"
      ],
      "execution_count": 35,
      "outputs": []
    },
    {
      "cell_type": "markdown",
      "metadata": {
        "id": "QcWO8mG1mlPP"
      },
      "source": [
        "### Guardar o asignar"
      ]
    },
    {
      "cell_type": "code",
      "metadata": {
        "id": "GdAKbphomoNS"
      },
      "source": [
        "def append(n=0):\n",
        "  l = []\n",
        "  for i in range(0,n):\n",
        "    l.append(i)\n",
        "\n",
        "def concat(n=0):\n",
        "  l = []\n",
        "  for i in range(0,n):\n",
        "    l = l + [i]\n",
        "\n",
        "def comprehension(n=0):\n",
        "  l = [i for i in range(0,n)]\n",
        "\n",
        "def range_list(n=0):\n",
        "  l = list(range(0,n))\n",
        "\n",
        "def range_iterable(n=0):\n",
        "  l = range(0,n)"
      ],
      "execution_count": 37,
      "outputs": []
    },
    {
      "cell_type": "code",
      "metadata": {
        "colab": {
          "base_uri": "https://localhost:8080/"
        },
        "id": "7484FEZUnZMG",
        "outputId": "5756c352-8f40-4ccc-e02a-f906a9ddbb94"
      },
      "source": [
        "N = int(1e3)\n",
        "print('Append')\n",
        "%timeit append(N)\n",
        "print('Concat')\n",
        "%timeit concat(N)\n",
        "print('Comprehension')\n",
        "%timeit comprehension(N)\n",
        "print('Range List')\n",
        "%timeit range_list(N)\n",
        "print('range Iterable')\n",
        "%timeit range_iterable(N)\n",
        "\n",
        "\n",
        "\n"
      ],
      "execution_count": 42,
      "outputs": [
        {
          "output_type": "stream",
          "text": [
            "Append\n",
            "10000 loops, best of 5: 78.8 µs per loop\n",
            "Concat\n",
            "1000 loops, best of 5: 1.12 ms per loop\n",
            "Comprehension\n",
            "10000 loops, best of 5: 37.3 µs per loop\n",
            "Range List\n",
            "100000 loops, best of 5: 14.3 µs per loop\n",
            "range Iterable\n",
            "The slowest run took 8.06 times longer than the fastest. This could mean that an intermediate result is being cached.\n",
            "1000000 loops, best of 5: 354 ns per loop\n"
          ],
          "name": "stdout"
        }
      ]
    },
    {
      "cell_type": "markdown",
      "metadata": {
        "id": "VcG8oohdsf92"
      },
      "source": [
        "Aqui se encuentra la lista con el costo de las operaciones para las listas en python:\n",
        "+ n: es el numero de elementos en la lista\n",
        "+ k: parametro de la operacion. Por ejemplo del slice, es el numero de objetos al que vamos a acceder.  \n",
        "[Fuente](https://wiki.python.org/moin/TimeComplexity)"
      ]
    },
    {
      "cell_type": "markdown",
      "metadata": {
        "id": "nzfNgLgVslHj"
      },
      "source": [
        "![image.png](data:image/png;base64,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)"
      ]
    },
    {
      "cell_type": "markdown",
      "metadata": {
        "id": "6lvZUYFWsngl"
      },
      "source": [
        "Los terminos [average case](https://en.wikipedia.org/wiki/Average-case_complexity) y [amortized worst case](https://es.wikipedia.org/wiki/An%C3%A1lisis_de_amortizaci%C3%B3n) nos quedaran claros mas adelante. Por ahora podemos interpretarlos como:  \n",
        "+ Average Case: (Caso promedio) Es la complejidad para un caso tipico o promedio, no es el peor ni el mejor.\n",
        "+ Amortized Worst Case: (Peor caso amortizado) Es el promedio en el tiempo de ejecucion por mas de una operacion en el peor de los casos."
      ]
    }
  ]
}