{
  "nbformat": 4,
  "nbformat_minor": 0,
  "metadata": {
    "colab": {
      "name": "01_analisis_de_algoritmos_i.ipynb",
      "provenance": [],
      "collapsed_sections": [],
      "toc_visible": true,
      "authorship_tag": "ABX9TyONAwRc+pQmtBXbpyofeEZN",
      "include_colab_link": true
    },
    "kernelspec": {
      "name": "python3",
      "display_name": "Python 3"
    },
    "language_info": {
      "name": "python"
    }
  },
  "cells": [
    {
      "cell_type": "markdown",
      "metadata": {
        "id": "view-in-github",
        "colab_type": "text"
      },
      "source": [
        "<a href=\"https://colab.research.google.com/github/IEXE-Tec/analisis_de_algoritmos/blob/main/01_analisis_de_algoritmos_i.ipynb\" target=\"_parent\"><img src=\"https://colab.research.google.com/assets/colab-badge.svg\" alt=\"Open In Colab\"/></a>"
      ]
    },
    {
      "cell_type": "markdown",
      "metadata": {
        "id": "iA0oQrpmK_-0"
      },
      "source": [
        "# Analisis de Algoritmos I"
      ]
    },
    {
      "cell_type": "markdown",
      "metadata": {
        "id": "gmUUCdu7LG9x"
      },
      "source": [
        "# Complejidad"
      ]
    },
    {
      "cell_type": "markdown",
      "metadata": {
        "id": "GNILOS3HLJje"
      },
      "source": [
        "## Ejercicio Perimetro Cuadrado"
      ]
    },
    {
      "cell_type": "code",
      "metadata": {
        "id": "qg9wNU6qmk91"
      },
      "source": [
        "import timeit\n",
        "import time\n",
        "import pandas as pd\n",
        "import matplotlib as mpl\n",
        "import matplotlib.pyplot as plt\n",
        "import seaborn as sns\n",
        "\n",
        "%matplotlib inline\n",
        "sns.set_style('darkgrid')\n",
        "sns.set(rc={'figure.figsize':(16,6)})"
      ],
      "execution_count": 40,
      "outputs": []
    },
    {
      "cell_type": "markdown",
      "metadata": {
        "id": "a6Bt4d5xLK-6"
      },
      "source": [
        "Alumno I"
      ]
    },
    {
      "cell_type": "code",
      "metadata": {
        "id": "pXw3PrXFLMuH"
      },
      "source": [
        "def per_cuadrado_i(lado=0):\n",
        "  perimetro = 0\n",
        "  for l in range(0,4):\n",
        "    perimetro += lado\n",
        "\n",
        "  return perimetro"
      ],
      "execution_count": 10,
      "outputs": []
    },
    {
      "cell_type": "markdown",
      "metadata": {
        "id": "Ee_Gi3NhLnjK"
      },
      "source": [
        "Alumno II"
      ]
    },
    {
      "cell_type": "code",
      "metadata": {
        "id": "eJpwCa8GLpDy"
      },
      "source": [
        "def per_cuadrado_ii(lado=0):\n",
        "  return lado*4"
      ],
      "execution_count": 11,
      "outputs": []
    },
    {
      "cell_type": "code",
      "metadata": {
        "colab": {
          "base_uri": "https://localhost:8080/"
        },
        "id": "7qymuvwVLx0Q",
        "outputId": "80a4637c-2242-433c-ce5b-1e8c74e58b53"
      },
      "source": [
        "%time per_cuadrado_i(1)"
      ],
      "execution_count": 20,
      "outputs": [
        {
          "output_type": "stream",
          "text": [
            "CPU times: user 6 µs, sys: 0 ns, total: 6 µs\n",
            "Wall time: 8.58 µs\n"
          ],
          "name": "stdout"
        },
        {
          "output_type": "execute_result",
          "data": {
            "text/plain": [
              "4"
            ]
          },
          "metadata": {
            "tags": []
          },
          "execution_count": 20
        }
      ]
    },
    {
      "cell_type": "code",
      "metadata": {
        "colab": {
          "base_uri": "https://localhost:8080/"
        },
        "id": "bt5ViCDRLfLm",
        "outputId": "3c62aeca-4178-4ac9-9bee-9242a968ad74"
      },
      "source": [
        "%time per_cuadrado_ii(1)"
      ],
      "execution_count": 19,
      "outputs": [
        {
          "output_type": "stream",
          "text": [
            "CPU times: user 6 µs, sys: 0 ns, total: 6 µs\n",
            "Wall time: 8.82 µs\n"
          ],
          "name": "stdout"
        },
        {
          "output_type": "execute_result",
          "data": {
            "text/plain": [
              "4"
            ]
          },
          "metadata": {
            "tags": []
          },
          "execution_count": 19
        }
      ]
    },
    {
      "cell_type": "markdown",
      "metadata": {
        "id": "e6-aF3UGg_yV"
      },
      "source": [
        "## Ejercicio 2\n",
        "Perimetro "
      ]
    },
    {
      "cell_type": "code",
      "metadata": {
        "id": "8GHxKzQXhDhb"
      },
      "source": [
        "def perimetro_i(l=0, n=0):\n",
        "  per = 0\n",
        "  for i in range(0,n):\n",
        "    per += l\n",
        "\n",
        "  return per"
      ],
      "execution_count": 28,
      "outputs": []
    },
    {
      "cell_type": "code",
      "metadata": {
        "id": "QUe9j47ChOfK"
      },
      "source": [
        "def perimetro_ii(l=0, n=0):\n",
        "  return l*n"
      ],
      "execution_count": 23,
      "outputs": []
    },
    {
      "cell_type": "code",
      "metadata": {
        "colab": {
          "base_uri": "https://localhost:8080/"
        },
        "id": "AgG8_ZUQhdJj",
        "outputId": "6b7ce900-bcaa-460b-8d6c-1cb0595b1cd3"
      },
      "source": [
        "%time perimetro_i(l=1, n=1000000)"
      ],
      "execution_count": 29,
      "outputs": [
        {
          "output_type": "stream",
          "text": [
            "CPU times: user 66.8 ms, sys: 659 µs, total: 67.4 ms\n",
            "Wall time: 67.6 ms\n"
          ],
          "name": "stdout"
        },
        {
          "output_type": "execute_result",
          "data": {
            "text/plain": [
              "1000000"
            ]
          },
          "metadata": {
            "tags": []
          },
          "execution_count": 29
        }
      ]
    },
    {
      "cell_type": "code",
      "metadata": {
        "colab": {
          "base_uri": "https://localhost:8080/"
        },
        "id": "X7ABb0sYhhfL",
        "outputId": "85dd7a0a-351b-4d4a-dbc3-244ecbec4a13"
      },
      "source": [
        "%time perimetro_ii(l=1, n=1000000)"
      ],
      "execution_count": 30,
      "outputs": [
        {
          "output_type": "stream",
          "text": [
            "CPU times: user 5 µs, sys: 0 ns, total: 5 µs\n",
            "Wall time: 7.63 µs\n"
          ],
          "name": "stdout"
        },
        {
          "output_type": "execute_result",
          "data": {
            "text/plain": [
              "1000000"
            ]
          },
          "metadata": {
            "tags": []
          },
          "execution_count": 30
        }
      ]
    },
    {
      "cell_type": "markdown",
      "metadata": {
        "id": "7gnAaelnmgXh"
      },
      "source": [
        "### Tiempo en funcion de n"
      ]
    },
    {
      "cell_type": "markdown",
      "metadata": {
        "id": "BAnk0d-2myrl"
      },
      "source": [
        "Ahora grafiquemos el tiempo de ejecucion dependiendo del parametro n."
      ]
    },
    {
      "cell_type": "code",
      "metadata": {
        "id": "Bk-4FT5hmh6L"
      },
      "source": [
        "def tiempo_exc(foo, n=0,l=0):\n",
        "  '''\n",
        "  foo: funcion a evaluar (perimetro_ii o  i\n",
        "  n: numero de lados\n",
        "  l: tamaño del lado\n",
        "\n",
        "  return: wall time \n",
        "  '''\n",
        "  start_time = time.time()\n",
        "  foo(n,l)\n",
        "  end_time = time.time()\n",
        "  return end_time - start_time"
      ],
      "execution_count": 35,
      "outputs": []
    },
    {
      "cell_type": "code",
      "metadata": {
        "colab": {
          "base_uri": "https://localhost:8080/",
          "height": 424
        },
        "id": "nyzh8e34ojQ_",
        "outputId": "6f7cea20-09ae-40ba-9643-385a26d1e655"
      },
      "source": [
        "tiempo_i = []\n",
        "tiempo_ii = []\n",
        "lista_n = list(range(1, 1000001, 10000))\n",
        "\n",
        "# Medir tiempos de ejecucion\n",
        "for nn in lista_n:\n",
        "  tiempo_i.append(tiempo_exc(perimetro_i, n=nn, l=1))\n",
        "  tiempo_ii.append(tiempo_exc(perimetro_ii, n=nn, l=1))\n",
        "\n",
        "# Crear dataframe\n",
        "df_i = pd.DataFrame({'n':lista_n, 'tiempo':tiempo_i})\n",
        "df_i['alg'] = 'i'\n",
        "df_ii = pd.DataFrame({'n':lista_n, 'tiempo':tiempo_ii})\n",
        "df_ii['alg'] = 'ii'\n",
        "df = pd.concat([df_i, df_ii], ignore_index=True)\n",
        "df"
      ],
      "execution_count": 47,
      "outputs": [
        {
          "output_type": "execute_result",
          "data": {
            "text/html": [
              "<div>\n",
              "<style scoped>\n",
              "    .dataframe tbody tr th:only-of-type {\n",
              "        vertical-align: middle;\n",
              "    }\n",
              "\n",
              "    .dataframe tbody tr th {\n",
              "        vertical-align: top;\n",
              "    }\n",
              "\n",
              "    .dataframe thead th {\n",
              "        text-align: right;\n",
              "    }\n",
              "</style>\n",
              "<table border=\"1\" class=\"dataframe\">\n",
              "  <thead>\n",
              "    <tr style=\"text-align: right;\">\n",
              "      <th></th>\n",
              "      <th>n</th>\n",
              "      <th>tiempo</th>\n",
              "      <th>alg</th>\n",
              "    </tr>\n",
              "  </thead>\n",
              "  <tbody>\n",
              "    <tr>\n",
              "      <th>0</th>\n",
              "      <td>1</td>\n",
              "      <td>4.291534e-06</td>\n",
              "      <td>i</td>\n",
              "    </tr>\n",
              "    <tr>\n",
              "      <th>1</th>\n",
              "      <td>10001</td>\n",
              "      <td>1.430511e-06</td>\n",
              "      <td>i</td>\n",
              "    </tr>\n",
              "    <tr>\n",
              "      <th>2</th>\n",
              "      <td>20001</td>\n",
              "      <td>9.536743e-07</td>\n",
              "      <td>i</td>\n",
              "    </tr>\n",
              "    <tr>\n",
              "      <th>3</th>\n",
              "      <td>30001</td>\n",
              "      <td>1.192093e-06</td>\n",
              "      <td>i</td>\n",
              "    </tr>\n",
              "    <tr>\n",
              "      <th>4</th>\n",
              "      <td>40001</td>\n",
              "      <td>1.192093e-06</td>\n",
              "      <td>i</td>\n",
              "    </tr>\n",
              "    <tr>\n",
              "      <th>...</th>\n",
              "      <td>...</td>\n",
              "      <td>...</td>\n",
              "      <td>...</td>\n",
              "    </tr>\n",
              "    <tr>\n",
              "      <th>195</th>\n",
              "      <td>950001</td>\n",
              "      <td>2.384186e-07</td>\n",
              "      <td>ii</td>\n",
              "    </tr>\n",
              "    <tr>\n",
              "      <th>196</th>\n",
              "      <td>960001</td>\n",
              "      <td>7.152557e-07</td>\n",
              "      <td>ii</td>\n",
              "    </tr>\n",
              "    <tr>\n",
              "      <th>197</th>\n",
              "      <td>970001</td>\n",
              "      <td>4.768372e-07</td>\n",
              "      <td>ii</td>\n",
              "    </tr>\n",
              "    <tr>\n",
              "      <th>198</th>\n",
              "      <td>980001</td>\n",
              "      <td>4.768372e-07</td>\n",
              "      <td>ii</td>\n",
              "    </tr>\n",
              "    <tr>\n",
              "      <th>199</th>\n",
              "      <td>990001</td>\n",
              "      <td>4.768372e-07</td>\n",
              "      <td>ii</td>\n",
              "    </tr>\n",
              "  </tbody>\n",
              "</table>\n",
              "<p>200 rows × 3 columns</p>\n",
              "</div>"
            ],
            "text/plain": [
              "          n        tiempo alg\n",
              "0         1  4.291534e-06   i\n",
              "1     10001  1.430511e-06   i\n",
              "2     20001  9.536743e-07   i\n",
              "3     30001  1.192093e-06   i\n",
              "4     40001  1.192093e-06   i\n",
              "..      ...           ...  ..\n",
              "195  950001  2.384186e-07  ii\n",
              "196  960001  7.152557e-07  ii\n",
              "197  970001  4.768372e-07  ii\n",
              "198  980001  4.768372e-07  ii\n",
              "199  990001  4.768372e-07  ii\n",
              "\n",
              "[200 rows x 3 columns]"
            ]
          },
          "metadata": {
            "tags": []
          },
          "execution_count": 47
        }
      ]
    },
    {
      "cell_type": "code",
      "metadata": {
        "colab": {
          "base_uri": "https://localhost:8080/",
          "height": 295
        },
        "id": "u0kGFOdEqbem",
        "outputId": "06a00b5d-e04b-42e0-e28a-b52e0906b07a"
      },
      "source": [
        "sns.lineplot(data=df, x='n', y='tiempo', hue='alg')"
      ],
      "execution_count": 48,
      "outputs": [
        {
          "output_type": "execute_result",
          "data": {
            "text/plain": [
              "<matplotlib.axes._subplots.AxesSubplot at 0x7fd1e5158fd0>"
            ]
          },
          "metadata": {
            "tags": []
          },
          "execution_count": 48
        },
        {
          "output_type": "display_data",
          "data": {
            "image/png": "[encoded data removed]",
            "text/plain": [
              "<Figure size 1152x432 with 1 Axes>"
            ]
          },
          "metadata": {
            "tags": []
          }
        }
      ]
    },
    {
      "cell_type": "code",
      "metadata": {
        "colab": {
          "base_uri": "https://localhost:8080/",
          "height": 206
        },
        "id": "icJqUjTSsXf8",
        "outputId": "b37336a1-d000-4e98-cdde-f4778abfb545"
      },
      "source": [
        "# Varias ejecuciones para los mismos valores de n\n",
        "\n",
        "\n",
        "for h in range(10000):\n",
        "  tiempo_i = []\n",
        "  tiempo_ii = []\n",
        "  lista_n = list(range(1, 1000000, 1000))\n",
        "  lista_df = []\n",
        "  for nn in lista_n:\n",
        "    tiempo_i.append(tiempo_exc(perimetro_i, n=nn, l=1))\n",
        "    tiempo_ii.append(tiempo_exc(perimetro_ii, n=nn, l=1))\n",
        "\n",
        "  # Crear dataframe\n",
        "  df_i = pd.DataFrame({'n':lista_n, 'tiempo':tiempo_i})\n",
        "  df_i['alg'] = 'i'\n",
        "  df_ii = pd.DataFrame({'n':lista_n, 'tiempo':tiempo_ii})\n",
        "  df_ii['alg'] = 'ii'\n",
        "  df = pd.concat([df_i, df_ii], ignore_index=True)\n",
        "  lista_df.append(df)\n",
        "\n",
        "df = pd.concat(lista_df, ignore_index=True)\n",
        "df = df.groupby(['n', 'alg'], as_index=False).mean()\n",
        "df.head()"
      ],
      "execution_count": 84,
      "outputs": [
        {
          "output_type": "execute_result",
          "data": {
            "text/html": [
              "<div>\n",
              "<style scoped>\n",
              "    .dataframe tbody tr th:only-of-type {\n",
              "        vertical-align: middle;\n",
              "    }\n",
              "\n",
              "    .dataframe tbody tr th {\n",
              "        vertical-align: top;\n",
              "    }\n",
              "\n",
              "    .dataframe thead th {\n",
              "        text-align: right;\n",
              "    }\n",
              "</style>\n",
              "<table border=\"1\" class=\"dataframe\">\n",
              "  <thead>\n",
              "    <tr style=\"text-align: right;\">\n",
              "      <th></th>\n",
              "      <th>n</th>\n",
              "      <th>alg</th>\n",
              "      <th>tiempo</th>\n",
              "    </tr>\n",
              "  </thead>\n",
              "  <tbody>\n",
              "    <tr>\n",
              "      <th>0</th>\n",
              "      <td>1</td>\n",
              "      <td>i</td>\n",
              "      <td>3.337860e-06</td>\n",
              "    </tr>\n",
              "    <tr>\n",
              "      <th>1</th>\n",
              "      <td>1</td>\n",
              "      <td>ii</td>\n",
              "      <td>1.192093e-06</td>\n",
              "    </tr>\n",
              "    <tr>\n",
              "      <th>2</th>\n",
              "      <td>1001</td>\n",
              "      <td>i</td>\n",
              "      <td>7.152557e-07</td>\n",
              "    </tr>\n",
              "    <tr>\n",
              "      <th>3</th>\n",
              "      <td>1001</td>\n",
              "      <td>ii</td>\n",
              "      <td>2.384186e-07</td>\n",
              "    </tr>\n",
              "    <tr>\n",
              "      <th>4</th>\n",
              "      <td>2001</td>\n",
              "      <td>i</td>\n",
              "      <td>4.768372e-07</td>\n",
              "    </tr>\n",
              "  </tbody>\n",
              "</table>\n",
              "</div>"
            ],
            "text/plain": [
              "      n alg        tiempo\n",
              "0     1   i  3.337860e-06\n",
              "1     1  ii  1.192093e-06\n",
              "2  1001   i  7.152557e-07\n",
              "3  1001  ii  2.384186e-07\n",
              "4  2001   i  4.768372e-07"
            ]
          },
          "metadata": {
            "tags": []
          },
          "execution_count": 84
        }
      ]
    },
    {
      "cell_type": "code",
      "metadata": {
        "colab": {
          "base_uri": "https://localhost:8080/",
          "height": 299
        },
        "id": "PGQOO4zMtDo0",
        "outputId": "512c29d6-079e-48b4-af43-dfd6bcc41c3b"
      },
      "source": [
        "sns.lineplot(data=df, x='n', y='tiempo', hue='alg')"
      ],
      "execution_count": 85,
      "outputs": [
        {
          "output_type": "execute_result",
          "data": {
            "text/plain": [
              "<matplotlib.axes._subplots.AxesSubplot at 0x7fd1e68f5c10>"
            ]
          },
          "metadata": {
            "tags": []
          },
          "execution_count": 85
        },
        {
          "output_type": "display_data",
          "data": {
            "image/png": "[encoded data removed]",
            "text/plain": [
              "<Figure size 1152x432 with 1 Axes>"
            ]
          },
          "metadata": {
            "tags": []
          }
        }
      ]
    },
    {
      "cell_type": "markdown",
      "metadata": {
        "id": "CrCpXQChLuTk"
      },
      "source": [
        "# Notacion Big-O"
      ]
    },
    {
      "cell_type": "markdown",
      "metadata": {
        "id": "fmw4HgzlMC0-"
      },
      "source": [
        "Veamos algunos ejemplo de la complejidad de algunas funciones aplicada a la lista con valores 1 a n:   \n",
        " \n",
        "```datos=list(range(1, n+1)) ```"
      ]
    },
    {
      "cell_type": "code",
      "metadata": {
        "id": "i7Bo8-a4LwKi"
      },
      "source": [
        "def foo_datos(n=10):\n",
        "  return list(range(1, n+1))"
      ],
      "execution_count": 86,
      "outputs": []
    },
    {
      "cell_type": "code",
      "metadata": {
        "colab": {
          "base_uri": "https://localhost:8080/"
        },
        "id": "MNSORrgrMjLM",
        "outputId": "45008418-6180-4887-fa35-39c5d8c8e2c7"
      },
      "source": [
        "datos = foo_datos(n=10)\n",
        "datos"
      ],
      "execution_count": 88,
      "outputs": [
        {
          "output_type": "execute_result",
          "data": {
            "text/plain": [
              "[1, 2, 3, 4, 5, 6, 7, 8, 9, 10]"
            ]
          },
          "metadata": {
            "tags": []
          },
          "execution_count": 88
        }
      ]
    },
    {
      "cell_type": "markdown",
      "metadata": {
        "id": "Q-ZVYZMZL-VS"
      },
      "source": [
        "## Funcion Constante  \n",
        "$\\mathcal{O}(1)$, pues sin importar el tamaño de la lista de valores, el codigo es ejecutado en 1 un paso."
      ]
    },
    {
      "cell_type": "code",
      "metadata": {
        "id": "e83yzBsXMnh7"
      },
      "source": [
        "def o_constante(datos):\n",
        "  print(datos)"
      ],
      "execution_count": 89,
      "outputs": []
    },
    {
      "cell_type": "code",
      "metadata": {
        "colab": {
          "base_uri": "https://localhost:8080/"
        },
        "id": "YuGbhFMTMtPP",
        "outputId": "71fd34c6-4527-4423-a4e6-e5f1214d9e8d"
      },
      "source": [
        "o_constante(datos)"
      ],
      "execution_count": 90,
      "outputs": [
        {
          "output_type": "stream",
          "text": [
            "[1, 2, 3, 4, 5, 6, 7, 8, 9, 10]\n"
          ],
          "name": "stdout"
        }
      ]
    },
    {
      "cell_type": "markdown",
      "metadata": {
        "id": "nrMSIXY0MvNF"
      },
      "source": [
        "## Funcion lineal\n",
        "$\\mathcal{O}(n)$"
      ]
    },
    {
      "cell_type": "markdown",
      "metadata": {
        "id": "QCtAjdtTNrTl"
      },
      "source": [
        "En el siguiente bloque el tiempo es lineal en $n$ pues se ejecuta una operacion de suma en cada iteracion del for-loop `for s in datos`."
      ]
    },
    {
      "cell_type": "code",
      "metadata": {
        "id": "m1Rf7jCqNc4V"
      },
      "source": [
        "def o_lineal_suma(datos):\n",
        "  suma = 0\n",
        "  for s in datos:\n",
        "    suma += s\n",
        "\n",
        "  return suma"
      ],
      "execution_count": 91,
      "outputs": []
    },
    {
      "cell_type": "code",
      "metadata": {
        "colab": {
          "base_uri": "https://localhost:8080/"
        },
        "id": "sRE_o8x7NoFo",
        "outputId": "92b1c117-1df0-4e44-df99-b043b3484599"
      },
      "source": [
        "o_lineal_suma(datos)"
      ],
      "execution_count": 92,
      "outputs": [
        {
          "output_type": "execute_result",
          "data": {
            "text/plain": [
              "55"
            ]
          },
          "metadata": {
            "tags": []
          },
          "execution_count": 92
        }
      ]
    },
    {
      "cell_type": "markdown",
      "metadata": {
        "id": "0qLkngXqOGH1"
      },
      "source": [
        "Lo mismo pasa en el siguiente bloque. Cada operacion de print o imprimir es ejecutada $n$ veces por eso la complejidad $\\mathcal{O}(n)$."
      ]
    },
    {
      "cell_type": "code",
      "metadata": {
        "id": "72eCUw2SN9x6"
      },
      "source": [
        "def o_lineal_print(datos):\n",
        "  for s in datos:\n",
        "    print(s)"
      ],
      "execution_count": 93,
      "outputs": []
    },
    {
      "cell_type": "code",
      "metadata": {
        "colab": {
          "base_uri": "https://localhost:8080/"
        },
        "id": "u88nO3IsODXe",
        "outputId": "1758c0c6-d8a5-47d9-fdd1-1dc1967e6dcd"
      },
      "source": [
        "o_lineal_print(datos)"
      ],
      "execution_count": 94,
      "outputs": [
        {
          "output_type": "stream",
          "text": [
            "1\n",
            "2\n",
            "3\n",
            "4\n",
            "5\n",
            "6\n",
            "7\n",
            "8\n",
            "9\n",
            "10\n"
          ],
          "name": "stdout"
        }
      ]
    },
    {
      "cell_type": "markdown",
      "metadata": {
        "id": "BCkAnHFKOPq6"
      },
      "source": [
        "## Polinomial de grado 2"
      ]
    },
    {
      "cell_type": "markdown",
      "metadata": {
        "id": "l90l7Yb8ObQe"
      },
      "source": [
        "$\\mathcal{O}(n^2)$"
      ]
    },
    {
      "cell_type": "markdown",
      "metadata": {
        "id": "TJ0WnGadOd42"
      },
      "source": [
        "En el siguiente ejemplo la complejidad es polinomial de grado dos, o cuadrada. Pues a cada uno de los $n$ elementos de la lista de le multiplica con cada uno de los $n$ elementos de la misma lista. \n",
        "Se crea la variable `acc` en un primer paso. Esto se hace en $\\mathcal{O}(1)$.   \n",
        "\n",
        "Podemos observar que el primer for `for s in datos` itera sobre cada uno de los `n` valores guardatos en `datos`.  \n",
        "A su vez, tiene otro for anidado `for ss in datos` que itera sobre la misma lista de $n$ objetos.  \n",
        " En cada una de estas operaciones se realiza una suma y una multiplicacion `acc += s*ss`.\n",
        "\n",
        "Esto nos da $2n^2$ operaciones en los loops de la funcion, lo que significa que tiene una complejidad de $ \\mathcal{O}(n^2) $."
      ]
    },
    {
      "cell_type": "code",
      "metadata": {
        "id": "y2j4eMZnO4w7"
      },
      "source": [
        "def o_cuadratica_mult(datos):\n",
        "  acc = 0\n",
        "  for s in datos:\n",
        "    for ss in datos:\n",
        "      acc += s*ss\n",
        "  return acc"
      ],
      "execution_count": 97,
      "outputs": []
    },
    {
      "cell_type": "code",
      "metadata": {
        "colab": {
          "base_uri": "https://localhost:8080/"
        },
        "id": "tBGvSByJPQ8G",
        "outputId": "9a1bf9c0-b315-4462-a814-8a46a07cb659"
      },
      "source": [
        "o_cuadratica_mult(datos)"
      ],
      "execution_count": 98,
      "outputs": [
        {
          "output_type": "execute_result",
          "data": {
            "text/plain": [
              "3025"
            ]
          },
          "metadata": {
            "tags": []
          },
          "execution_count": 98
        }
      ]
    },
    {
      "cell_type": "markdown",
      "metadata": {
        "id": "m1tPc-ViS5eE"
      },
      "source": [
        "## Tarea"
      ]
    },
    {
      "cell_type": "markdown",
      "metadata": {
        "id": "7YM2E8OsT3-S"
      },
      "source": [
        "Encuntra al complejidad asitotica de las siguientes funciones"
      ]
    },
    {
      "cell_type": "code",
      "metadata": {
        "id": "O-rWcDNcUDKo"
      },
      "source": [
        "def o_tarea_1(datos):\n",
        "  for s in datos:\n",
        "    print(s)\n",
        "    pass "
      ],
      "execution_count": 99,
      "outputs": []
    },
    {
      "cell_type": "code",
      "metadata": {
        "colab": {
          "base_uri": "https://localhost:8080/"
        },
        "id": "cmfEz7qsUNr5",
        "outputId": "95cea3a6-e9cf-41ab-d771-7d4c564a35b2"
      },
      "source": [
        "o_tarea_1(datos)"
      ],
      "execution_count": 100,
      "outputs": [
        {
          "output_type": "stream",
          "text": [
            "1\n",
            "2\n",
            "3\n",
            "4\n",
            "5\n",
            "6\n",
            "7\n",
            "8\n",
            "9\n",
            "10\n"
          ],
          "name": "stdout"
        }
      ]
    },
    {
      "cell_type": "code",
      "metadata": {
        "id": "C0MjogAiUQ6o"
      },
      "source": [
        "def o_tarea_2(datos):\n",
        "  for s in datos:\n",
        "    pass "
      ],
      "execution_count": 101,
      "outputs": []
    },
    {
      "cell_type": "code",
      "metadata": {
        "id": "n_FdZgnlUWx0"
      },
      "source": [
        "o_tarea_2(datos)"
      ],
      "execution_count": 102,
      "outputs": []
    },
    {
      "cell_type": "code",
      "metadata": {
        "id": "nnPLrl1yT87v"
      },
      "source": [
        "def o_tarea_3(datos):\n",
        "  return 0"
      ],
      "execution_count": 104,
      "outputs": []
    },
    {
      "cell_type": "code",
      "metadata": {
        "colab": {
          "base_uri": "https://localhost:8080/"
        },
        "id": "caMzGqqkUZoz",
        "outputId": "f469247e-af22-4760-bc2c-84691c00f81b"
      },
      "source": [
        "o_tarea_3(datos)"
      ],
      "execution_count": 106,
      "outputs": [
        {
          "output_type": "execute_result",
          "data": {
            "text/plain": [
              "0"
            ]
          },
          "metadata": {
            "tags": []
          },
          "execution_count": 106
        }
      ]
    },
    {
      "cell_type": "code",
      "metadata": {
        "id": "RpRpKW76Ue7v"
      },
      "source": [
        "def o_tarea_4(datos):\n",
        "  acc = 0\n",
        "  for s in datos:\n",
        "    for ss in datos:\n",
        "      for sss in datos:\n",
        "        acc = acc*sss\n",
        "        acc -= sss\n",
        "        acc += sss\n",
        "  return acc"
      ],
      "execution_count": 116,
      "outputs": []
    },
    {
      "cell_type": "code",
      "metadata": {
        "colab": {
          "base_uri": "https://localhost:8080/"
        },
        "id": "lJUOCOo0U6yn",
        "outputId": "419f6e31-893d-4a4f-9c72-4082d47e5a3b"
      },
      "source": [
        "o_tarea_4(datos)"
      ],
      "execution_count": 117,
      "outputs": [
        {
          "output_type": "execute_result",
          "data": {
            "text/plain": [
              "0"
            ]
          },
          "metadata": {
            "tags": []
          },
          "execution_count": 117
        }
      ]
    },
    {
      "cell_type": "code",
      "metadata": {
        "id": "RUPvMvbMVJmT"
      },
      "source": [
        "def o_tarea_5(datos):\n",
        "  acc = 0\n",
        "  for s in datos:\n",
        "    for ss in range(1,5):\n",
        "      acc += s*ss\n",
        "  return acc"
      ],
      "execution_count": 114,
      "outputs": []
    },
    {
      "cell_type": "code",
      "metadata": {
        "colab": {
          "base_uri": "https://localhost:8080/"
        },
        "id": "UPGFrKMZVV4R",
        "outputId": "633759d3-387b-4d63-9fd3-121c4368c584"
      },
      "source": [
        "o_tarea_5(datos)"
      ],
      "execution_count": 118,
      "outputs": [
        {
          "output_type": "execute_result",
          "data": {
            "text/plain": [
              "550"
            ]
          },
          "metadata": {
            "tags": []
          },
          "execution_count": 118
        }
      ]
    }
  ]
}