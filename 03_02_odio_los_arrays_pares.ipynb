{
  "nbformat": 4,
  "nbformat_minor": 0,
  "metadata": {
    "colab": {
      "name": "03_02_odio_los_arrays_pares.ipynb",
      "provenance": [],
      "collapsed_sections": [],
      "authorship_tag": "ABX9TyM9MbEGEQ8lrdGIKM8oSMlu",
      "include_colab_link": true
    },
    "kernelspec": {
      "name": "python3",
      "display_name": "Python 3"
    },
    "language_info": {
      "name": "python"
    }
  },
  "cells": [
    {
      "cell_type": "markdown",
      "metadata": {
        "id": "view-in-github",
        "colab_type": "text"
      },
      "source": [
        "<a href=\"https://colab.research.google.com/github/IEXE-Tec/analisis_de_algoritmos/blob/main/03_02_odio_los_arrays_pares.ipynb\" target=\"_parent\"><img src=\"https://colab.research.google.com/assets/colab-badge.svg\" alt=\"Open In Colab\"/></a>"
      ]
    },
    {
      "cell_type": "markdown",
      "metadata": {
        "id": "R6CPcZbIi8Fs"
      },
      "source": [
        "# Odio los Arrays pares"
      ]
    },
    {
      "cell_type": "markdown",
      "metadata": {
        "id": "lfI8egJsmE5D"
      },
      "source": [
        "En este problema recibiras una lista con caracteres binarios {0,1}*. L a idea es eliminar todas las sub-cadenas o sub-strings de tamaño par que contengan solo 0's o solo 1's.  Incluso cuando estas sub-cadenas son creadas al eliminiar otras subcadenas. Solo puedes eliminar cadenas por pares. (Ve los ejemplos por si tienes dudas).\n",
        "Basicamente debes regresar cadenas sin sub-cadenas pares.  \n",
        "Si la cadena queda vacia regresa \"Helado es el vacio\"."
      ]
    },
    {
      "cell_type": "markdown",
      "metadata": {
        "id": "vZRYWlJinS_F"
      },
      "source": [
        "**Ejemplos**:\n",
        "+ `101001` regresa `10`\n",
        "+ `1` regresa `1`\n",
        "+ ` ` regresa `Helado es el vacio`\n",
        "+ `0011` regresa `Helado es el vacio`\n",
        "+ `101` regresa `Helado es el vacio`\n",
        "+ `1001` regresa `Helado es el vacio`\n",
        "+ `10001` regresa `101`\n",
        "+ `100001` regresa `Helado es el vacio`\n",
        "+ `1000001` regresa `101`"
      ]
    },
    {
      "cell_type": "markdown",
      "metadata": {
        "id": "i-1pdTs_mv0Q"
      },
      "source": [
        "**Condiciones**:\n",
        "+ Las cadenas pueden estar vacias, o no contener cadenas pares de substrings con ceros y unos.\n",
        "+ Si la cadena esta vacia regresa \"Helado es el vacio\" (sin las comillas)\n",
        "+ Solo puedes usar listas `[]`, y las operaciones basicas definidas en nuestras estructuras de stack, y colas.  \n",
        "\n",
        "**Hint**: Recuerda que puedes concatenar cadenas de texto de un array usando `''.join(stack)`\n"
      ]
    },
    {
      "cell_type": "markdown",
      "metadata": {
        "id": "3o0nktmTnR8H"
      },
      "source": [
        "## Tu sulucion"
      ]
    },
    {
      "cell_type": "code",
      "metadata": {
        "id": "rsZRtJnBnud2"
      },
      "source": [
        "def respuesta_pares(arr=''):\n",
        "  stack = []\n",
        "\n",
        "  # Condicion final\n",
        "  if len(stack) > 0:\n",
        "    return ''.join(stack)\n",
        "  else:\n",
        "    return 'Helado es el vacio'"
      ],
      "execution_count": 13,
      "outputs": []
    },
    {
      "cell_type": "code",
      "metadata": {
        "colab": {
          "base_uri": "https://localhost:8080/",
          "height": 41
        },
        "id": "j5yFAmhw0smF",
        "outputId": "0584985c-f3a0-49ed-b877-65bd1e43b012"
      },
      "source": [
        "respuesta_pares(arr='10000001')"
      ],
      "execution_count": 15,
      "outputs": [
        {
          "output_type": "execute_result",
          "data": {
            "application/vnd.google.colaboratory.intrinsic+json": {
              "type": "string"
            },
            "text/plain": [
              "'Helado es el vacio'"
            ]
          },
          "metadata": {
            "tags": []
          },
          "execution_count": 15
        }
      ]
    }
  ]
}