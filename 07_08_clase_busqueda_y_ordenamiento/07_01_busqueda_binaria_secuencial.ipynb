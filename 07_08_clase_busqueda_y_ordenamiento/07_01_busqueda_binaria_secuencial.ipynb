{
  "nbformat": 4,
  "nbformat_minor": 0,
  "metadata": {
    "colab": {
      "name": "07_01_busqueda_binaria_secuencial.ipynb",
      "provenance": [],
      "collapsed_sections": [],
      "authorship_tag": "ABX9TyNC5Kro0ppcpb32PRCnEsH1",
      "include_colab_link": true
    },
    "kernelspec": {
      "name": "python3",
      "display_name": "Python 3"
    },
    "language_info": {
      "name": "python"
    }
  },
  "cells": [
    {
      "cell_type": "markdown",
      "metadata": {
        "id": "view-in-github",
        "colab_type": "text"
      },
      "source": [
        "<a href=\"https://colab.research.google.com/github/IEXE-Tec/analisis_de_algoritmos/blob/main/07_01_busqueda_binaria_secuencial.ipynb\" target=\"_parent\"><img src=\"https://colab.research.google.com/assets/colab-badge.svg\" alt=\"Open In Colab\"/></a>"
      ]
    },
    {
      "cell_type": "markdown",
      "metadata": {
        "id": "c4Sp3MBf5qHp"
      },
      "source": [
        "# Busqueda Binaria Secuencial"
      ]
    },
    {
      "cell_type": "markdown",
      "metadata": {
        "id": "OiLJaf_E5tDo"
      },
      "source": [
        "Escribe de manera secuencial la funcion de Busqueda Binaria Recursiva `ec_bin_search` del notebook de la clase. "
      ]
    },
    {
      "cell_type": "markdown",
      "metadata": {
        "id": "ohjFr1zI58NV"
      },
      "source": [
        "## Tu algoritmo"
      ]
    },
    {
      "cell_type": "code",
      "metadata": {
        "id": "GATg7Jmf59fd"
      },
      "source": [
        "def sec_bin_search(arr,ele):\n",
        "  # TODO\n",
        "  \n",
        "  return"
      ],
      "execution_count": null,
      "outputs": []
    }
  ]
}